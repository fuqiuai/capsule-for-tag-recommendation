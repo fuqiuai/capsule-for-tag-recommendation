{
 "cells": [
  {
   "cell_type": "markdown",
   "metadata": {},
   "source": [
    "## 读取数据"
   ]
  },
  {
   "cell_type": "code",
   "execution_count": 1,
   "metadata": {
    "collapsed": true
   },
   "outputs": [],
   "source": [
    "import numpy as np\n",
    "import pandas as pd\n",
    "import matplotlib.pyplot as plt\n",
    "from sklearn.feature_extraction.text import TfidfVectorizer"
   ]
  },
  {
   "cell_type": "code",
   "execution_count": 2,
   "metadata": {
    "collapsed": true
   },
   "outputs": [],
   "source": [
    "dataset = pd.read_csv('data/TPA2.csv', encoding='cp1252', index_col=0)"
   ]
  },
  {
   "cell_type": "code",
   "execution_count": 4,
   "metadata": {},
   "outputs": [
    {
     "data": {
      "text/html": [
       "<div>\n",
       "<style>\n",
       "    .dataframe thead tr:only-child th {\n",
       "        text-align: right;\n",
       "    }\n",
       "\n",
       "    .dataframe thead th {\n",
       "        text-align: left;\n",
       "    }\n",
       "\n",
       "    .dataframe tbody tr th {\n",
       "        vertical-align: top;\n",
       "    }\n",
       "</style>\n",
       "<table border=\"1\" class=\"dataframe\">\n",
       "  <thead>\n",
       "    <tr style=\"text-align: right;\">\n",
       "      <th></th>\n",
       "      <th>Title</th>\n",
       "      <th>Abstract</th>\n",
       "      <th>Tag</th>\n",
       "    </tr>\n",
       "  </thead>\n",
       "  <tbody>\n",
       "    <tr>\n",
       "      <th>18459</th>\n",
       "      <td>Registration Based on Projective Reconstructio...</td>\n",
       "      <td>In AR systems, registration is one of the most...</td>\n",
       "      <td>5</td>\n",
       "    </tr>\n",
       "    <tr>\n",
       "      <th>18460</th>\n",
       "      <td>Blind Robust Watermarking Schemes for Copyrigh...</td>\n",
       "      <td>In this paper, two novel methods suitable for ...</td>\n",
       "      <td>5</td>\n",
       "    </tr>\n",
       "    <tr>\n",
       "      <th>18461</th>\n",
       "      <td>Topological Lines in 3D Tensor Fields and Disc...</td>\n",
       "      <td>This paper addresses several issues related to...</td>\n",
       "      <td>5</td>\n",
       "    </tr>\n",
       "    <tr>\n",
       "      <th>18462</th>\n",
       "      <td>Decorating Surfaces with Bidirectional Texture...</td>\n",
       "      <td>We present a system for decorating arbitrary s...</td>\n",
       "      <td>5</td>\n",
       "    </tr>\n",
       "    <tr>\n",
       "      <th>18463</th>\n",
       "      <td>Comparison of Path Visualizations and Cognitiv...</td>\n",
       "      <td>We describe a between-subjects experiment that...</td>\n",
       "      <td>5</td>\n",
       "    </tr>\n",
       "  </tbody>\n",
       "</table>\n",
       "</div>"
      ],
      "text/plain": [
       "                                                   Title  \\\n",
       "18459  Registration Based on Projective Reconstructio...   \n",
       "18460  Blind Robust Watermarking Schemes for Copyrigh...   \n",
       "18461  Topological Lines in 3D Tensor Fields and Disc...   \n",
       "18462  Decorating Surfaces with Bidirectional Texture...   \n",
       "18463  Comparison of Path Visualizations and Cognitiv...   \n",
       "\n",
       "                                                Abstract  Tag  \n",
       "18459  In AR systems, registration is one of the most...    5  \n",
       "18460  In this paper, two novel methods suitable for ...    5  \n",
       "18461  This paper addresses several issues related to...    5  \n",
       "18462  We present a system for decorating arbitrary s...    5  \n",
       "18463  We describe a between-subjects experiment that...    5  "
      ]
     },
     "execution_count": 4,
     "metadata": {},
     "output_type": "execute_result"
    }
   ],
   "source": [
    "dataset.tail()"
   ]
  },
  {
   "cell_type": "markdown",
   "metadata": {},
   "source": [
    "## 训练模型"
   ]
  },
  {
   "cell_type": "code",
   "execution_count": 5,
   "metadata": {
    "collapsed": true
   },
   "outputs": [],
   "source": [
    "titleTf = TfidfVectorizer().fit_transform(dataset.Title)"
   ]
  },
  {
   "cell_type": "code",
   "execution_count": 6,
   "metadata": {
    "collapsed": true
   },
   "outputs": [],
   "source": [
    "abstractTf = TfidfVectorizer().fit_transform(dataset.Abstract.values.astype('U'))"
   ]
  },
  {
   "cell_type": "code",
   "execution_count": 8,
   "metadata": {},
   "outputs": [],
   "source": [
    "import time\n",
    "\n",
    "from sklearn.cross_validation import train_test_split\n",
    "from sklearn.metrics import accuracy_score, precision_score, recall_score, f1_score\n",
    "from scipy.sparse import hstack\n",
    "\n",
    "features = hstack((titleTf,abstractTf))\n",
    "labels = dataset.Tag.values\n",
    "\n",
    "# 随机选取33%数据作为测试集，剩余为训练集\n",
    "train_features, test_features, train_labels, test_labels = train_test_split(features, labels, test_size=0.33, random_state=0)"
   ]
  },
  {
   "cell_type": "markdown",
   "metadata": {},
   "source": [
    "## 逻辑斯谛回归"
   ]
  },
  {
   "cell_type": "code",
   "execution_count": 10,
   "metadata": {},
   "outputs": [
    {
     "name": "stdout",
     "output_type": "stream",
     "text": [
      "Start training...\n",
      "training cost 2.402528 seconds\n",
      "Start predicting...\n",
      "predicting cost 0.005821 seconds\n",
      "The accruacy score is 0.880538\n",
      "The precision score is 0.873744\n",
      "The recall score is 0.861293\n",
      "The f1 score is 0.866540\n"
     ]
    }
   ],
   "source": [
    "from sklearn.linear_model import LogisticRegression\n",
    "\n",
    "\n",
    "time_1 = time.time()\n",
    "print('Start training...') \n",
    "# multi_class可选‘ovr’, ‘multinomial’，默认为ovr用于二类分类，multinomial用于多类分类\n",
    "clf = LogisticRegression(max_iter=100,solver='saga',multi_class='multinomial')\n",
    "clf.fit(train_features,train_labels)\n",
    "time_2 = time.time()\n",
    "print('training cost %f seconds' % (time_2 - time_1))\n",
    "\n",
    "\n",
    "print('Start predicting...')\n",
    "test_predict = clf.predict(test_features)\n",
    "time_3 = time.time()\n",
    "print('predicting cost %f seconds' % (time_3 - time_2))\n",
    "\n",
    "\n",
    "accuracy = accuracy_score(test_labels, test_predict)\n",
    "print(\"The accruacy score is %f\" % accuracy)\n",
    "precision = precision_score(test_labels, test_predict, average='macro') # MAP\n",
    "print(\"The precision score is %f\" % precision)\n",
    "recall = recall_score(test_labels, test_predict, average='macro')\n",
    "print(\"The recall score is %f\" % recall)\n",
    "f1 = f1_score(test_labels, test_predict, average='macro')\n",
    "print(\"The f1 score is %f\" % f1)"
   ]
  },
  {
   "cell_type": "markdown",
   "metadata": {},
   "source": [
    "## 朴素贝叶斯"
   ]
  },
  {
   "cell_type": "code",
   "execution_count": 11,
   "metadata": {},
   "outputs": [
    {
     "name": "stdout",
     "output_type": "stream",
     "text": [
      "Start training...\n",
      "Start predicting...\n",
      "The accruacy score is 0.829012\n",
      "The precision score is 0.856992\n",
      "The recall score is 0.774882\n",
      "The f1 score is 0.788010\n"
     ]
    }
   ],
   "source": [
    "from sklearn.naive_bayes import MultinomialNB\n",
    "\n",
    "print('Start training...')\n",
    "clf = MultinomialNB(alpha=1.0) # 加入laplace平滑\n",
    "clf.fit(train_features, train_labels)\n",
    "\n",
    "print('Start predicting...')\n",
    "test_predict = clf.predict(test_features)\n",
    "\n",
    "\n",
    "accuracy = accuracy_score(test_labels, test_predict)\n",
    "print(\"The accruacy score is %f\" % accuracy)\n",
    "precision = precision_score(test_labels, test_predict, average='macro')\n",
    "print(\"The precision score is %f\" % precision)\n",
    "recall = recall_score(test_labels, test_predict, average='macro')\n",
    "print(\"The recall score is %f\" % recall)\n",
    "f1 = f1_score(test_labels, test_predict, average='macro')\n",
    "print(\"The f1 score is %f\" % f1)"
   ]
  },
  {
   "cell_type": "markdown",
   "metadata": {},
   "source": [
    "## 决策树-CART算法"
   ]
  },
  {
   "cell_type": "code",
   "execution_count": 10,
   "metadata": {},
   "outputs": [
    {
     "name": "stdout",
     "output_type": "stream",
     "text": [
      "Start training...\n",
      "Start predicting...\n",
      "The accruacy score is 0.688054\n",
      "The precision score is 0.673339\n",
      "The recall score is 0.671797\n",
      "The f1 score is 0.688054\n"
     ]
    }
   ],
   "source": [
    "from sklearn.tree import DecisionTreeClassifier\n",
    "\n",
    "print('Start training...') \n",
    "# criterion可选‘gini’, ‘entropy’，默认为gini(对应CART算法)，entropy为信息增益（对应ID3算法）\n",
    "clf = DecisionTreeClassifier(criterion='gini') \n",
    "clf.fit(train_features,train_labels)\n",
    "\n",
    "print('Start predicting...')\n",
    "test_predict = clf.predict(test_features)\n",
    "\n",
    "score = accuracy_score(test_labels, test_predict)\n",
    "print(\"The accruacy score is %f\" % score)\n",
    "precision = precision_score(test_labels, test_predict, average='macro')\n",
    "print(\"The precision score is %f\" % precision)\n",
    "recall = recall_score(test_labels, test_predict, average='macro')\n",
    "print(\"The recall score is %f\" % recall)\n",
    "f1 = f1_score(test_labels, test_predict, average='macro')\n",
    "print(\"The f1 score is %f\" % f1)"
   ]
  },
  {
   "cell_type": "markdown",
   "metadata": {},
   "source": [
    "## 决策树-ID3算法"
   ]
  },
  {
   "cell_type": "code",
   "execution_count": 12,
   "metadata": {},
   "outputs": [
    {
     "name": "stdout",
     "output_type": "stream",
     "text": [
      "Start training...\n",
      "Start predicting...\n",
      "The accruacy score is 0.669019\n",
      "The precision score is 0.653375\n",
      "The recall score is 0.651678\n",
      "The f1 score is 0.669019\n"
     ]
    }
   ],
   "source": [
    "from sklearn.tree import DecisionTreeClassifier\n",
    "\n",
    "print('Start training...') \n",
    "# criterion可选‘gini’, ‘entropy’，默认为gini(对应CART算法)，entropy为信息增益（对应ID3算法）\n",
    "clf = DecisionTreeClassifier(criterion='entropy') \n",
    "clf.fit(train_features,train_labels)\n",
    "\n",
    "print('Start predicting...')\n",
    "test_predict = clf.predict(test_features)\n",
    "\n",
    "score = accuracy_score(test_labels, test_predict)\n",
    "print(\"The accruacy score is %f\" % score)\n",
    "precision = precision_score(test_labels, test_predict, average='macro')\n",
    "print(\"The precision score is %f\" % precision)\n",
    "recall = recall_score(test_labels, test_predict, average='macro')\n",
    "print(\"The recall score is %f\" % recall)\n",
    "f1 = f1_score(test_labels, test_predict, average='macro')\n",
    "print(\"The f1 score is %f\" % f1)"
   ]
  },
  {
   "cell_type": "markdown",
   "metadata": {},
   "source": [
    "## AdaBoost"
   ]
  },
  {
   "cell_type": "code",
   "execution_count": 13,
   "metadata": {},
   "outputs": [
    {
     "name": "stdout",
     "output_type": "stream",
     "text": [
      "Start training...\n",
      "Start predicting...\n",
      "The accruacy score is 0.739252\n",
      "The precision score is 0.744832\n",
      "The recall score is 0.720623\n",
      "The f1 score is 0.739252\n"
     ]
    }
   ],
   "source": [
    "from sklearn.ensemble import AdaBoostClassifier\n",
    "\n",
    "print('Start training...') \n",
    "# n_estimators表示要组合的弱分类器个数；\n",
    "# algorithm可选{‘SAMME’, ‘SAMME.R’}，默认为‘SAMME.R’，表示使用的是real boosting算法，‘SAMME’表示使用的是discrete boosting算法\n",
    "clf = AdaBoostClassifier(n_estimators=100,algorithm='SAMME.R')\n",
    "clf.fit(train_features,train_labels)\n",
    "\n",
    "print('Start predicting...')\n",
    "test_predict = clf.predict(test_features)\n",
    "\n",
    "score = accuracy_score(test_labels, test_predict)\n",
    "print(\"The accruacy score is %f\" % score)\n",
    "precision = precision_score(test_labels, test_predict, average='macro')\n",
    "print(\"The precision score is %f\" % precision)\n",
    "recall = recall_score(test_labels, test_predict, average='macro')\n",
    "print(\"The recall score is %f\" % recall)\n",
    "f1 = f1_score(test_labels, test_predict, average='macro')\n",
    "print(\"The f1 score is %f\" % f1)"
   ]
  },
  {
   "cell_type": "markdown",
   "metadata": {},
   "source": [
    "## SVM"
   ]
  },
  {
   "cell_type": "code",
   "execution_count": 14,
   "metadata": {},
   "outputs": [
    {
     "name": "stdout",
     "output_type": "stream",
     "text": [
      "Start training...\n",
      "Start predicting...\n",
      "The accruacy score is 0.269117\n",
      "The precision score is 0.053823\n",
      "The recall score is 0.200000\n",
      "The f1 score is 0.269117\n"
     ]
    },
    {
     "name": "stderr",
     "output_type": "stream",
     "text": [
      "D:\\Anaconda3\\envs\\tf\\lib\\site-packages\\sklearn\\metrics\\classification.py:1135: UndefinedMetricWarning: Precision is ill-defined and being set to 0.0 in labels with no predicted samples.\n",
      "  'precision', 'predicted', average, warn_for)\n",
      "D:\\Anaconda3\\envs\\tf\\lib\\site-packages\\sklearn\\metrics\\classification.py:1135: UndefinedMetricWarning: F-score is ill-defined and being set to 0.0 in labels with no predicted samples.\n",
      "  'precision', 'predicted', average, warn_for)\n"
     ]
    }
   ],
   "source": [
    "from sklearn import svm\n",
    "\n",
    "print('Start training...')\n",
    "clf = svm.SVC()  # svm class   \n",
    "clf.fit(train_features, train_labels)  # training the svc model \n",
    "\n",
    "print('Start predicting...')\n",
    "test_predict=clf.predict(test_features)\n",
    "\n",
    "score = accuracy_score(test_labels, test_predict)\n",
    "print(\"The accruacy score is %f\" % score)\n",
    "precision = precision_score(test_labels, test_predict, average='macro')\n",
    "print(\"The precision score is %f\" % precision)\n",
    "recall = recall_score(test_labels, test_predict, average='macro')\n",
    "print(\"The recall score is %f\" % recall)\n",
    "f1 = f1_score(test_labels, test_predict, average='macro')\n",
    "print(\"The f1 score is %f\" % f1)"
   ]
  },
  {
   "cell_type": "code",
   "execution_count": null,
   "metadata": {
    "collapsed": true
   },
   "outputs": [],
   "source": []
  }
 ],
 "metadata": {
  "kernelspec": {
   "display_name": "Python 3",
   "language": "python",
   "name": "python3"
  },
  "language_info": {
   "codemirror_mode": {
    "name": "ipython",
    "version": 3
   },
   "file_extension": ".py",
   "mimetype": "text/x-python",
   "name": "python",
   "nbconvert_exporter": "python",
   "pygments_lexer": "ipython3",
   "version": "3.5.5"
  }
 },
 "nbformat": 4,
 "nbformat_minor": 2
}
