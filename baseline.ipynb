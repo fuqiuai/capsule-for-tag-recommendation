{
 "cells": [
  {
   "cell_type": "code",
   "execution_count": 1,
   "metadata": {
    "collapsed": true
   },
   "outputs": [],
   "source": [
    "import numpy as np\n",
    "import pandas as pd\n",
    "import matplotlib.pyplot as plt\n",
    "from sklearn.feature_extraction.text import TfidfVectorizer"
   ]
  },
  {
   "cell_type": "code",
   "execution_count": 21,
   "metadata": {},
   "outputs": [],
   "source": [
    "dataset = pd.read_csv('tagRec.csv', encoding='cp1252', index_col=0)"
   ]
  },
  {
   "cell_type": "code",
   "execution_count": 87,
   "metadata": {},
   "outputs": [],
   "source": [
    "# dataset2=dataset.sample(n=1000) # 随机选取1000个样本\n",
    "dataset2 = dataset\n",
    "dataset2 = dataset2.drop(['Conference/Journal', 'Authors','Year'], axis=1) # 只留下Title和Tag两列"
   ]
  },
  {
   "cell_type": "code",
   "execution_count": 88,
   "metadata": {},
   "outputs": [
    {
     "data": {
      "text/plain": [
       "Database               5059\n",
       "Visualization          4074\n",
       "Theory                 3995\n",
       "Medical Informatics    3066\n",
       "Data Mining            2270\n",
       "Name: Tag, dtype: int64"
      ]
     },
     "execution_count": 88,
     "metadata": {},
     "output_type": "execute_result"
    }
   ],
   "source": [
    "dataset2['Tag'].value_counts()"
   ]
  },
  {
   "cell_type": "code",
   "execution_count": 89,
   "metadata": {},
   "outputs": [
    {
     "data": {
      "text/plain": [
       "2    5059\n",
       "5    4074\n",
       "4    3995\n",
       "3    3066\n",
       "1    2270\n",
       "Name: Tag, dtype: int64"
      ]
     },
     "execution_count": 89,
     "metadata": {},
     "output_type": "execute_result"
    }
   ],
   "source": [
    "dataset2 = dataset2.replace({'Tag':'Data Mining'},1)\n",
    "dataset2 = dataset2.replace({'Tag':'Database'},2)\n",
    "dataset2 = dataset2.replace({'Tag':'Medical Informatics'},3)\n",
    "dataset2 = dataset2.replace({'Tag':'Theory'},4)\n",
    "dataset2 = dataset2.replace({'Tag':'Visualization'},5)\n",
    "dataset2['Tag'].value_counts()"
   ]
  },
  {
   "cell_type": "code",
   "execution_count": 102,
   "metadata": {},
   "outputs": [
    {
     "data": {
      "text/html": [
       "<div>\n",
       "<style>\n",
       "    .dataframe thead tr:only-child th {\n",
       "        text-align: right;\n",
       "    }\n",
       "\n",
       "    .dataframe thead th {\n",
       "        text-align: left;\n",
       "    }\n",
       "\n",
       "    .dataframe tbody tr th {\n",
       "        vertical-align: top;\n",
       "    }\n",
       "</style>\n",
       "<table border=\"1\" class=\"dataframe\">\n",
       "  <thead>\n",
       "    <tr style=\"text-align: right;\">\n",
       "      <th></th>\n",
       "      <th>Title</th>\n",
       "      <th>Abstract</th>\n",
       "      <th>Tag</th>\n",
       "    </tr>\n",
       "  </thead>\n",
       "  <tbody>\n",
       "    <tr>\n",
       "      <th>18459</th>\n",
       "      <td>Registration Based on Projective Reconstructio...</td>\n",
       "      <td>In AR systems, registration is one of the most...</td>\n",
       "      <td>5</td>\n",
       "    </tr>\n",
       "    <tr>\n",
       "      <th>18460</th>\n",
       "      <td>Blind Robust Watermarking Schemes for Copyrigh...</td>\n",
       "      <td>In this paper, two novel methods suitable for ...</td>\n",
       "      <td>5</td>\n",
       "    </tr>\n",
       "    <tr>\n",
       "      <th>18461</th>\n",
       "      <td>Topological Lines in 3D Tensor Fields and Disc...</td>\n",
       "      <td>This paper addresses several issues related to...</td>\n",
       "      <td>5</td>\n",
       "    </tr>\n",
       "    <tr>\n",
       "      <th>18462</th>\n",
       "      <td>Decorating Surfaces with Bidirectional Texture...</td>\n",
       "      <td>We present a system for decorating arbitrary s...</td>\n",
       "      <td>5</td>\n",
       "    </tr>\n",
       "    <tr>\n",
       "      <th>18463</th>\n",
       "      <td>Comparison of Path Visualizations and Cognitiv...</td>\n",
       "      <td>We describe a between-subjects experiment that...</td>\n",
       "      <td>5</td>\n",
       "    </tr>\n",
       "  </tbody>\n",
       "</table>\n",
       "</div>"
      ],
      "text/plain": [
       "                                                   Title  \\\n",
       "18459  Registration Based on Projective Reconstructio...   \n",
       "18460  Blind Robust Watermarking Schemes for Copyrigh...   \n",
       "18461  Topological Lines in 3D Tensor Fields and Disc...   \n",
       "18462  Decorating Surfaces with Bidirectional Texture...   \n",
       "18463  Comparison of Path Visualizations and Cognitiv...   \n",
       "\n",
       "                                                Abstract  Tag  \n",
       "18459  In AR systems, registration is one of the most...    5  \n",
       "18460  In this paper, two novel methods suitable for ...    5  \n",
       "18461  This paper addresses several issues related to...    5  \n",
       "18462  We present a system for decorating arbitrary s...    5  \n",
       "18463  We describe a between-subjects experiment that...    5  "
      ]
     },
     "execution_count": 102,
     "metadata": {},
     "output_type": "execute_result"
    }
   ],
   "source": [
    "dataset2.tail()"
   ]
  },
  {
   "cell_type": "code",
   "execution_count": 96,
   "metadata": {},
   "outputs": [],
   "source": [
    "titleTf = TfidfVectorizer().fit_transform(dataset2.Title)"
   ]
  },
  {
   "cell_type": "code",
   "execution_count": 105,
   "metadata": {},
   "outputs": [],
   "source": [
    "abstractTf = TfidfVectorizer().fit_transform(dataset2.Abstract.values.astype('U'))"
   ]
  },
  {
   "cell_type": "markdown",
   "metadata": {},
   "source": [
    "## 逻辑斯谛回归"
   ]
  },
  {
   "cell_type": "code",
   "execution_count": 121,
   "metadata": {},
   "outputs": [
    {
     "name": "stdout",
     "output_type": "stream",
     "text": [
      "Start training...\n",
      "training cost 2.367303 seconds\n",
      "Start predicting...\n",
      "predicting cost 0.005853 seconds\n",
      "The accruacy score is 0.880538\n",
      "The precision score is 0.873744\n",
      "The recall score is 0.861293\n",
      "The f1 score is 0.829012\n"
     ]
    }
   ],
   "source": [
    "import time\n",
    "\n",
    "from sklearn.cross_validation import train_test_split\n",
    "from sklearn.metrics import accuracy_score, precision_score, recall_score, f1_score\n",
    "from scipy.sparse import hstack\n",
    "\n",
    "from sklearn.linear_model import LogisticRegression\n",
    "\n",
    "\n",
    "time_1 = time.time()\n",
    "\n",
    "\n",
    "features = hstack((titleTf,abstractTf))\n",
    "labels = dataset2.Tag.values\n",
    "\n",
    "# 随机选取33%数据作为测试集，剩余为训练集\n",
    "train_features, test_features, train_labels, test_labels = train_test_split(features, labels, test_size=0.33, random_state=0)\n",
    "\n",
    "\n",
    "print('Start training...') \n",
    "# multi_class可选‘ovr’, ‘multinomial’，默认为ovr用于二类分类，multinomial用于多类分类\n",
    "clf = LogisticRegression(max_iter=100,solver='saga',multi_class='multinomial')\n",
    "clf.fit(train_features,train_labels)\n",
    "time_2 = time.time()\n",
    "print('training cost %f seconds' % (time_2 - time_1))\n",
    "\n",
    "\n",
    "print('Start predicting...')\n",
    "test_predict = clf.predict(test_features)\n",
    "time_3 = time.time()\n",
    "print('predicting cost %f seconds' % (time_3 - time_2))\n",
    "\n",
    "\n",
    "accuracy = accuracy_score(test_labels, test_predict)\n",
    "print(\"The accruacy score is %f\" % accuracy)\n",
    "precision = precision_score(test_labels, test_predict, average='macro') # MAP\n",
    "print(\"The precision score is %f\" % precision)\n",
    "recall = recall_score(test_labels, test_predict, average='macro')\n",
    "print(\"The recall score is %f\" % recall)\n",
    "f1 = f1_score(test_labels, test_predict, average='macro')\n",
    "print(\"The f1 score is %f\" % score)"
   ]
  },
  {
   "cell_type": "markdown",
   "metadata": {},
   "source": [
    "## 朴素贝叶斯"
   ]
  },
  {
   "cell_type": "code",
   "execution_count": 122,
   "metadata": {},
   "outputs": [
    {
     "name": "stdout",
     "output_type": "stream",
     "text": [
      "Start training...\n",
      "Start predicting...\n",
      "The accruacy score is 0.829012\n",
      "The precision score is 0.856992\n",
      "The recall score is 0.774882\n",
      "The f1 score is 0.829012\n"
     ]
    }
   ],
   "source": [
    "from sklearn.naive_bayes import MultinomialNB\n",
    "\n",
    "print('Start training...')\n",
    "clf = MultinomialNB(alpha=1.0) # 加入laplace平滑\n",
    "clf.fit(train_features, train_labels)\n",
    "\n",
    "print('Start predicting...')\n",
    "test_predict = clf.predict(test_features)\n",
    "\n",
    "\n",
    "accuracy = accuracy_score(test_labels, test_predict)\n",
    "print(\"The accruacy score is %f\" % accuracy)\n",
    "precision = precision_score(test_labels, test_predict, average='macro')\n",
    "print(\"The precision score is %f\" % precision)\n",
    "recall = recall_score(test_labels, test_predict, average='macro')\n",
    "print(\"The recall score is %f\" % recall)\n",
    "f1 = f1_score(test_labels, test_predict, average='macro')\n",
    "print(\"The f1 score is %f\" % score)"
   ]
  },
  {
   "cell_type": "code",
   "execution_count": null,
   "metadata": {},
   "outputs": [],
   "source": []
  },
  {
   "cell_type": "code",
   "execution_count": null,
   "metadata": {
    "collapsed": true
   },
   "outputs": [],
   "source": []
  }
 ],
 "metadata": {
  "kernelspec": {
   "display_name": "Python 3",
   "language": "python",
   "name": "python3"
  },
  "language_info": {
   "codemirror_mode": {
    "name": "ipython",
    "version": 3
   },
   "file_extension": ".py",
   "mimetype": "text/x-python",
   "name": "python",
   "nbconvert_exporter": "python",
   "pygments_lexer": "ipython3",
   "version": "3.5.5"
  }
 },
 "nbformat": 4,
 "nbformat_minor": 2
}
