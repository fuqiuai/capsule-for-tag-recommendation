{
 "cells": [
  {
   "cell_type": "markdown",
   "metadata": {},
   "source": [
    "## 预处理数据"
   ]
  },
  {
   "cell_type": "code",
   "execution_count": 1,
   "metadata": {
    "collapsed": true
   },
   "outputs": [],
   "source": [
    "import numpy as np\n",
    "import pandas as pd\n",
    "import matplotlib.pyplot as plt"
   ]
  },
  {
   "cell_type": "markdown",
   "metadata": {},
   "source": [
    "### 取数据"
   ]
  },
  {
   "cell_type": "code",
   "execution_count": 2,
   "metadata": {
    "collapsed": true
   },
   "outputs": [],
   "source": [
    "dataDM = pd.read_table('./Topic-paper-author/Data Mining.txt',names=['Conference/Journal','Title','Authors','Year','Abstract'])\n",
    "dataDb = pd.read_table('./Topic-paper-author/Database.txt',names=['Conference/Journal','Title','Authors','Year','Abstract'])\n",
    "dataM = pd.read_table('./Topic-paper-author/Medical Informatics.txt',names=['Conference/Journal','Title','Authors','Year','Abstract'])\n",
    "dataT = pd.read_table('./Topic-paper-author/Theory.txt',names=['Conference/Journal','Title','Authors','Year','Abstract'])\n",
    "dataV = pd.read_table('./Topic-paper-author/Visualization.txt',names=['Conference/Journal','Title','Authors','Year','Abstract'])"
   ]
  },
  {
   "cell_type": "code",
   "execution_count": 3,
   "metadata": {},
   "outputs": [
    {
     "data": {
      "text/html": [
       "<div>\n",
       "<style>\n",
       "    .dataframe thead tr:only-child th {\n",
       "        text-align: right;\n",
       "    }\n",
       "\n",
       "    .dataframe thead th {\n",
       "        text-align: left;\n",
       "    }\n",
       "\n",
       "    .dataframe tbody tr th {\n",
       "        vertical-align: top;\n",
       "    }\n",
       "</style>\n",
       "<table border=\"1\" class=\"dataframe\">\n",
       "  <thead>\n",
       "    <tr style=\"text-align: right;\">\n",
       "      <th></th>\n",
       "      <th>Conference/Journal</th>\n",
       "      <th>Title</th>\n",
       "      <th>Authors</th>\n",
       "      <th>Year</th>\n",
       "      <th>Abstract</th>\n",
       "    </tr>\n",
       "  </thead>\n",
       "  <tbody>\n",
       "    <tr>\n",
       "      <th>2265</th>\n",
       "      <td>SDM</td>\n",
       "      <td>WFIM: Weighted Frequent Itemset Mining with a ...</td>\n",
       "      <td>Unil Yun,John J. Leggett</td>\n",
       "      <td>2005</td>\n",
       "      <td>WFIM: Weighted Frequent Itemset Mining with a ...</td>\n",
       "    </tr>\n",
       "    <tr>\n",
       "      <th>2266</th>\n",
       "      <td>SDM</td>\n",
       "      <td>Cross Table Cubing: Mining Iceberg Cubes from ...</td>\n",
       "      <td>Jian Pei,Moonjung Cho,David Wai-Lok Cheung</td>\n",
       "      <td>2005</td>\n",
       "      <td>Cross Table Cubing: Mining Iceberg Cubes from ...</td>\n",
       "    </tr>\n",
       "    <tr>\n",
       "      <th>2267</th>\n",
       "      <td>SDM</td>\n",
       "      <td>Correcting Sampling Bias in Structural Genomic...</td>\n",
       "      <td>Kang Peng,Slobodan Vucetic,Zoran Obradovic</td>\n",
       "      <td>2005</td>\n",
       "      <td>Correcting Sampling Bias in Structural Genomic...</td>\n",
       "    </tr>\n",
       "    <tr>\n",
       "      <th>2268</th>\n",
       "      <td>SDM</td>\n",
       "      <td>Parallel Computation of RBF Kernels for Suppor...</td>\n",
       "      <td>Shibin Qiu,Terran Lane</td>\n",
       "      <td>2005</td>\n",
       "      <td>Parallel Computation of RBF Kernels for Suppor...</td>\n",
       "    </tr>\n",
       "    <tr>\n",
       "      <th>2269</th>\n",
       "      <td>SDM</td>\n",
       "      <td>Topic-driven Clustering for Document Datasets.</td>\n",
       "      <td>Ying Zhao,George Karypis</td>\n",
       "      <td>2005</td>\n",
       "      <td>Topic-driven Clustering for Document Datasets.</td>\n",
       "    </tr>\n",
       "  </tbody>\n",
       "</table>\n",
       "</div>"
      ],
      "text/plain": [
       "     Conference/Journal                                              Title  \\\n",
       "2265                SDM  WFIM: Weighted Frequent Itemset Mining with a ...   \n",
       "2266                SDM  Cross Table Cubing: Mining Iceberg Cubes from ...   \n",
       "2267                SDM  Correcting Sampling Bias in Structural Genomic...   \n",
       "2268                SDM  Parallel Computation of RBF Kernels for Suppor...   \n",
       "2269                SDM     Topic-driven Clustering for Document Datasets.   \n",
       "\n",
       "                                         Authors  Year  \\\n",
       "2265                    Unil Yun,John J. Leggett  2005   \n",
       "2266  Jian Pei,Moonjung Cho,David Wai-Lok Cheung  2005   \n",
       "2267  Kang Peng,Slobodan Vucetic,Zoran Obradovic  2005   \n",
       "2268                      Shibin Qiu,Terran Lane  2005   \n",
       "2269                    Ying Zhao,George Karypis  2005   \n",
       "\n",
       "                                               Abstract  \n",
       "2265  WFIM: Weighted Frequent Itemset Mining with a ...  \n",
       "2266  Cross Table Cubing: Mining Iceberg Cubes from ...  \n",
       "2267  Correcting Sampling Bias in Structural Genomic...  \n",
       "2268  Parallel Computation of RBF Kernels for Suppor...  \n",
       "2269     Topic-driven Clustering for Document Datasets.  "
      ]
     },
     "execution_count": 3,
     "metadata": {},
     "output_type": "execute_result"
    }
   ],
   "source": [
    "dataDM.tail()"
   ]
  },
  {
   "cell_type": "code",
   "execution_count": 4,
   "metadata": {},
   "outputs": [
    {
     "name": "stdout",
     "output_type": "stream",
     "text": [
      "the documents of Data Mining: 2270 \n",
      "the documents of Database: 5059 \n",
      "the documents of Medical Informatics: 3066 \n",
      "the documents of Theory: 3995 \n",
      "the documents of Visualization: 4074\n"
     ]
    }
   ],
   "source": [
    "print('the documents of Data Mining:',len(dataDM),'\\nthe documents of Database:',len(dataDb),\n",
    "      '\\nthe documents of Medical Informatics:',len(dataM),'\\nthe documents of Theory:',len(dataT),\n",
    "      '\\nthe documents of Visualization:',len(dataV))"
   ]
  },
  {
   "cell_type": "markdown",
   "metadata": {},
   "source": [
    "### 连接数据"
   ]
  },
  {
   "cell_type": "code",
   "execution_count": 5,
   "metadata": {
    "collapsed": true
   },
   "outputs": [],
   "source": [
    "dataDM['Tag'] = 'Data Mining'\n",
    "dataDb['Tag'] = 'Database'\n",
    "dataM['Tag'] = 'Medical Informatics'\n",
    "dataT['Tag'] = 'Theory'\n",
    "dataV['Tag'] = 'Visualization'\n",
    "dataset = pd.concat([dataDM,dataDb,dataM,dataT,dataV],ignore_index=True)"
   ]
  },
  {
   "cell_type": "code",
   "execution_count": 6,
   "metadata": {},
   "outputs": [
    {
     "data": {
      "text/html": [
       "<div>\n",
       "<style>\n",
       "    .dataframe thead tr:only-child th {\n",
       "        text-align: right;\n",
       "    }\n",
       "\n",
       "    .dataframe thead th {\n",
       "        text-align: left;\n",
       "    }\n",
       "\n",
       "    .dataframe tbody tr th {\n",
       "        vertical-align: top;\n",
       "    }\n",
       "</style>\n",
       "<table border=\"1\" class=\"dataframe\">\n",
       "  <thead>\n",
       "    <tr style=\"text-align: right;\">\n",
       "      <th></th>\n",
       "      <th>Conference/Journal</th>\n",
       "      <th>Title</th>\n",
       "      <th>Authors</th>\n",
       "      <th>Year</th>\n",
       "      <th>Abstract</th>\n",
       "      <th>Tag</th>\n",
       "    </tr>\n",
       "  </thead>\n",
       "  <tbody>\n",
       "    <tr>\n",
       "      <th>0</th>\n",
       "      <td>KDD</td>\n",
       "      <td>Knowledge Discovery in Databases: Papers from ...</td>\n",
       "      <td>Usama M. Fayyad,Ramasamy Uthurusamy</td>\n",
       "      <td>1994</td>\n",
       "      <td>Knowledge Discovery in Databases: Papers from ...</td>\n",
       "      <td>Data Mining</td>\n",
       "    </tr>\n",
       "    <tr>\n",
       "      <th>1</th>\n",
       "      <td>KDD</td>\n",
       "      <td>STAR: A General Architecture for the Support o...</td>\n",
       "      <td>Paul Anderson,Ray Smith,Zhongwei Zhang</td>\n",
       "      <td>1995</td>\n",
       "      <td>STAR: A General Architecture for the Support o...</td>\n",
       "      <td>Data Mining</td>\n",
       "    </tr>\n",
       "    <tr>\n",
       "      <th>2</th>\n",
       "      <td>KDD</td>\n",
       "      <td>Learning First Order Logic Rules with a Geneti...</td>\n",
       "      <td>Sébastien Augier,Gilles Venturini,Yves Kodratoff</td>\n",
       "      <td>1995</td>\n",
       "      <td>Learning First Order Logic Rules with a Geneti...</td>\n",
       "      <td>Data Mining</td>\n",
       "    </tr>\n",
       "    <tr>\n",
       "      <th>3</th>\n",
       "      <td>KDD</td>\n",
       "      <td>Discovery and Maintenance of Functional Depend...</td>\n",
       "      <td>Siegfried Bell</td>\n",
       "      <td>1995</td>\n",
       "      <td>Discovery and Maintenance of Functional Depend...</td>\n",
       "      <td>Data Mining</td>\n",
       "    </tr>\n",
       "    <tr>\n",
       "      <th>4</th>\n",
       "      <td>KDD</td>\n",
       "      <td>Active Data Mining.</td>\n",
       "      <td>Rakesh Agrawal,Giuseppe Psaila</td>\n",
       "      <td>1995</td>\n",
       "      <td>Active Data Mining.</td>\n",
       "      <td>Data Mining</td>\n",
       "    </tr>\n",
       "  </tbody>\n",
       "</table>\n",
       "</div>"
      ],
      "text/plain": [
       "  Conference/Journal                                              Title  \\\n",
       "0                KDD  Knowledge Discovery in Databases: Papers from ...   \n",
       "1                KDD  STAR: A General Architecture for the Support o...   \n",
       "2                KDD  Learning First Order Logic Rules with a Geneti...   \n",
       "3                KDD  Discovery and Maintenance of Functional Depend...   \n",
       "4                KDD                                Active Data Mining.   \n",
       "\n",
       "                                            Authors  Year  \\\n",
       "0               Usama M. Fayyad,Ramasamy Uthurusamy  1994   \n",
       "1            Paul Anderson,Ray Smith,Zhongwei Zhang  1995   \n",
       "2  Sébastien Augier,Gilles Venturini,Yves Kodratoff  1995   \n",
       "3                                    Siegfried Bell  1995   \n",
       "4                    Rakesh Agrawal,Giuseppe Psaila  1995   \n",
       "\n",
       "                                            Abstract          Tag  \n",
       "0  Knowledge Discovery in Databases: Papers from ...  Data Mining  \n",
       "1  STAR: A General Architecture for the Support o...  Data Mining  \n",
       "2  Learning First Order Logic Rules with a Geneti...  Data Mining  \n",
       "3  Discovery and Maintenance of Functional Depend...  Data Mining  \n",
       "4                                Active Data Mining.  Data Mining  "
      ]
     },
     "execution_count": 6,
     "metadata": {},
     "output_type": "execute_result"
    }
   ],
   "source": [
    "dataset.head()"
   ]
  },
  {
   "cell_type": "code",
   "execution_count": 7,
   "metadata": {},
   "outputs": [
    {
     "data": {
      "text/plain": [
       "Database               5059\n",
       "Visualization          4074\n",
       "Theory                 3995\n",
       "Medical Informatics    3066\n",
       "Data Mining            2270\n",
       "Name: Tag, dtype: int64"
      ]
     },
     "execution_count": 7,
     "metadata": {},
     "output_type": "execute_result"
    }
   ],
   "source": [
    "dataset['Tag'].value_counts()"
   ]
  },
  {
   "cell_type": "code",
   "execution_count": 8,
   "metadata": {},
   "outputs": [
    {
     "data": {
      "image/png": "[encoded data removed]",
      "text/plain": [
       "<matplotlib.figure.Figure at 0x1366cd03f60>"
      ]
     },
     "metadata": {},
     "output_type": "display_data"
    }
   ],
   "source": [
    "import seaborn as sns\n",
    "sns.set(style='white', context='notebook', palette='deep')\n",
    "g = sns.countplot(x='Tag', data=dataset)\n",
    "g = plt.setp(g.get_xticklabels(), rotation=45) \n",
    "plt.show()"
   ]
  },
  {
   "cell_type": "markdown",
   "metadata": {},
   "source": [
    "## 保存至文件"
   ]
  },
  {
   "cell_type": "code",
   "execution_count": 15,
   "metadata": {},
   "outputs": [],
   "source": [
    "dataset.to_csv('data/TPA1.csv')"
   ]
  },
  {
   "cell_type": "markdown",
   "metadata": {
    "collapsed": true
   },
   "source": [
    "## 继续处理数据"
   ]
  },
  {
   "cell_type": "code",
   "execution_count": 16,
   "metadata": {
    "collapsed": true
   },
   "outputs": [],
   "source": [
    "# dataset2=dataset.sample(n=1000) # 随机选取1000个样本\n",
    "dataset2 = dataset\n",
    "dataset2 = dataset2.drop(['Conference/Journal', 'Authors','Year'], axis=1) # 只留下Title和Tag两列"
   ]
  },
  {
   "cell_type": "code",
   "execution_count": 17,
   "metadata": {},
   "outputs": [
    {
     "data": {
      "text/plain": [
       "Database               5059\n",
       "Visualization          4074\n",
       "Theory                 3995\n",
       "Medical Informatics    3066\n",
       "Data Mining            2270\n",
       "Name: Tag, dtype: int64"
      ]
     },
     "execution_count": 17,
     "metadata": {},
     "output_type": "execute_result"
    }
   ],
   "source": [
    "dataset2['Tag'].value_counts()"
   ]
  },
  {
   "cell_type": "code",
   "execution_count": 18,
   "metadata": {},
   "outputs": [
    {
     "data": {
      "text/plain": [
       "2    5059\n",
       "5    4074\n",
       "4    3995\n",
       "3    3066\n",
       "1    2270\n",
       "Name: Tag, dtype: int64"
      ]
     },
     "execution_count": 18,
     "metadata": {},
     "output_type": "execute_result"
    }
   ],
   "source": [
    "dataset2 = dataset2.replace({'Tag':'Data Mining'},1)\n",
    "dataset2 = dataset2.replace({'Tag':'Database'},2)\n",
    "dataset2 = dataset2.replace({'Tag':'Medical Informatics'},3)\n",
    "dataset2 = dataset2.replace({'Tag':'Theory'},4)\n",
    "dataset2 = dataset2.replace({'Tag':'Visualization'},5)\n",
    "dataset2['Tag'].value_counts()"
   ]
  },
  {
   "cell_type": "code",
   "execution_count": 19,
   "metadata": {},
   "outputs": [
    {
     "data": {
      "text/html": [
       "<div>\n",
       "<style>\n",
       "    .dataframe thead tr:only-child th {\n",
       "        text-align: right;\n",
       "    }\n",
       "\n",
       "    .dataframe thead th {\n",
       "        text-align: left;\n",
       "    }\n",
       "\n",
       "    .dataframe tbody tr th {\n",
       "        vertical-align: top;\n",
       "    }\n",
       "</style>\n",
       "<table border=\"1\" class=\"dataframe\">\n",
       "  <thead>\n",
       "    <tr style=\"text-align: right;\">\n",
       "      <th></th>\n",
       "      <th>Title</th>\n",
       "      <th>Abstract</th>\n",
       "      <th>Tag</th>\n",
       "    </tr>\n",
       "  </thead>\n",
       "  <tbody>\n",
       "    <tr>\n",
       "      <th>18459</th>\n",
       "      <td>Registration Based on Projective Reconstructio...</td>\n",
       "      <td>In AR systems, registration is one of the most...</td>\n",
       "      <td>5</td>\n",
       "    </tr>\n",
       "    <tr>\n",
       "      <th>18460</th>\n",
       "      <td>Blind Robust Watermarking Schemes for Copyrigh...</td>\n",
       "      <td>In this paper, two novel methods suitable for ...</td>\n",
       "      <td>5</td>\n",
       "    </tr>\n",
       "    <tr>\n",
       "      <th>18461</th>\n",
       "      <td>Topological Lines in 3D Tensor Fields and Disc...</td>\n",
       "      <td>This paper addresses several issues related to...</td>\n",
       "      <td>5</td>\n",
       "    </tr>\n",
       "    <tr>\n",
       "      <th>18462</th>\n",
       "      <td>Decorating Surfaces with Bidirectional Texture...</td>\n",
       "      <td>We present a system for decorating arbitrary s...</td>\n",
       "      <td>5</td>\n",
       "    </tr>\n",
       "    <tr>\n",
       "      <th>18463</th>\n",
       "      <td>Comparison of Path Visualizations and Cognitiv...</td>\n",
       "      <td>We describe a between-subjects experiment that...</td>\n",
       "      <td>5</td>\n",
       "    </tr>\n",
       "  </tbody>\n",
       "</table>\n",
       "</div>"
      ],
      "text/plain": [
       "                                                   Title  \\\n",
       "18459  Registration Based on Projective Reconstructio...   \n",
       "18460  Blind Robust Watermarking Schemes for Copyrigh...   \n",
       "18461  Topological Lines in 3D Tensor Fields and Disc...   \n",
       "18462  Decorating Surfaces with Bidirectional Texture...   \n",
       "18463  Comparison of Path Visualizations and Cognitiv...   \n",
       "\n",
       "                                                Abstract  Tag  \n",
       "18459  In AR systems, registration is one of the most...    5  \n",
       "18460  In this paper, two novel methods suitable for ...    5  \n",
       "18461  This paper addresses several issues related to...    5  \n",
       "18462  We present a system for decorating arbitrary s...    5  \n",
       "18463  We describe a between-subjects experiment that...    5  "
      ]
     },
     "execution_count": 19,
     "metadata": {},
     "output_type": "execute_result"
    }
   ],
   "source": [
    "dataset2.tail()"
   ]
  },
  {
   "cell_type": "markdown",
   "metadata": {},
   "source": [
    "## 保存至文件"
   ]
  },
  {
   "cell_type": "code",
   "execution_count": 20,
   "metadata": {
    "collapsed": true
   },
   "outputs": [],
   "source": [
    "dataset2.to_csv('data/TPA2.csv')"
   ]
  },
  {
   "cell_type": "code",
   "execution_count": null,
   "metadata": {
    "collapsed": true
   },
   "outputs": [],
   "source": []
  }
 ],
 "metadata": {
  "kernelspec": {
   "display_name": "Python 3",
   "language": "python",
   "name": "python3"
  },
  "language_info": {
   "codemirror_mode": {
    "name": "ipython",
    "version": 3
   },
   "file_extension": ".py",
   "mimetype": "text/x-python",
   "name": "python",
   "nbconvert_exporter": "python",
   "pygments_lexer": "ipython3",
   "version": "3.5.5"
  }
 },
 "nbformat": 4,
 "nbformat_minor": 2
}
